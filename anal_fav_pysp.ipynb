{
 "cells": [
  {
   "cell_type": "markdown",
   "id": "733d6596-4464-4943-915a-2dbee1fb0cc1",
   "metadata": {},
   "source": [
    "# ANALISE DOS DADOS DE VENDAS DAS LOJAS FAVORITAS : APLICANDO TESTE T e RESPONDENDO PERGUNTAS, USANDO PYSPARK"
   ]
  },
  {
   "cell_type": "markdown",
   "id": "c14779b2-b79f-45fa-a05c-bacabef20fcf",
   "metadata": {},
   "source": [
    "DESCRIÇÃO DO PROBLEMA"
   ]
  },
  {
   "cell_type": "markdown",
   "id": "a903eebb-ff95-4ef0-89ec-a7ac2712c6af",
   "metadata": {},
   "source": [
    "Neste projeto tenho um conjunto de dados do periodo  2013 a 2017 com informações sobre as vendas das  lojas Corporation Favorita, uma importante varejista de alimentos sediada no Equador. Os principais objetivos são:\n",
    "a. Entender o impacto das promoções nas vendas das lojas Favorita que ela possa adaptar suas estratégias de marketing e impulsionar as vendas durante períodos específicos.\n",
    "b. Responder  a perguntas analíticas importantes.\n",
    "Ao alavancar dados históricos de vendas e informações suplementares relevantes, e fazer uma análise mais verticalizada dos dados pode-se  fornecer informações confiáveis que permitam à gestão das lojas Favorita melhorar as tomadas de decisão, otimizando o gerenciamento de estoque, alocando recursos e estratégias de marketing.\n",
    "Para tanto utilizei o frameworks pyspark, bem como bibliotecas de visualizações. O projeto é composto de duas etapas, incluindo comprensão do negócio e compreensão e análise dos dados.Essa composição é parte inicial da estrutura de INTELIGENCIA ANALITICA DO BIG DATA PARA OS NEGÓCIOS."
   ]
  },
  {
   "cell_type": "code",
   "execution_count": 37,
   "id": "e04208d2-8397-4c62-9171-d02a9c32c0c9",
   "metadata": {},
   "outputs": [],
   "source": [
    "from pyspark.sql.types import StructType,StructField, StringType, IntegerType, DoubleType, DateType, TimestampType, BooleanType\n",
    "from pyspark.sql import SparkSession\n",
    "from pyspark.sql import functions as F\n",
    "from pyspark.sql.functions import *\n",
    "\n",
    "import pandas as pd\n",
    "import numpy as np\n",
    "from scipy import stats\n",
    "from scipy.stats import ttest_ind\n",
    "from pyspark.ml.feature import Imputer\n",
    "from pyspark.ml.feature import VectorAssembler\n",
    "from pyspark.ml.stat import Correlation\n",
    "# Bibliotecas de visualização\n",
    "import matplotlib.pyplot as plt \n",
    "import seaborn as sns"
   ]
  },
  {
   "cell_type": "code",
   "execution_count": 7,
   "id": "565d5a43-49fe-4002-b1d6-65ff6849855d",
   "metadata": {},
   "outputs": [
    {
     "data": {
      "text/html": [
       "<style>pre { white-space: pre !important; }</style>"
      ],
      "text/plain": [
       "<IPython.core.display.HTML object>"
      ]
     },
     "metadata": {},
     "output_type": "display_data"
    }
   ],
   "source": [
    "from IPython.core.display import HTML\n",
    "display(HTML(\"<style>pre { white-space: pre !important; }</style>\"))"
   ]
  },
  {
   "cell_type": "code",
   "execution_count": 8,
   "id": "a3195e57-a121-458e-93ef-f91fff1291c0",
   "metadata": {},
   "outputs": [
    {
     "name": "stderr",
     "output_type": "stream",
     "text": [
      "24/07/31 09:33:19 WARN Utils: Your hostname, sc_oberdan resolves to a loopback address: 127.0.1.1; using 172.20.200.206 instead (on interface eth0)\n",
      "24/07/31 09:33:19 WARN Utils: Set SPARK_LOCAL_IP if you need to bind to another address\n",
      "Setting default log level to \"WARN\".\n",
      "To adjust logging level use sc.setLogLevel(newLevel). For SparkR, use setLogLevel(newLevel).\n",
      "24/07/31 09:33:21 WARN NativeCodeLoader: Unable to load native-hadoop library for your platform... using builtin-java classes where applicable\n"
     ]
    }
   ],
   "source": [
    "spark = (\n",
    "    SparkSession \n",
    "    .builder \n",
    "    .master(\"local[*]\") \n",
    "    .appName('testet_respostap') \n",
    "    .getOrCreate() )"
   ]
  },
  {
   "cell_type": "markdown",
   "id": "8a3a25f1-697b-4532-b01a-b61fd03c744c",
   "metadata": {},
   "source": [
    "Carregar, Ler, visualizar e Checar Schema o dataset "
   ]
  },
  {
   "cell_type": "code",
   "execution_count": 9,
   "id": "0fad34ec-ac70-40ff-9894-5d5bbce6ac27",
   "metadata": {},
   "outputs": [
    {
     "name": "stderr",
     "output_type": "stream",
     "text": [
      "                                                                                \r"
     ]
    },
    {
     "name": "stdout",
     "output_type": "stream",
     "text": [
      "Visualizando os dados :\n",
      "+---+---+----------+---------+----------+-----+-----------+------------+----------+------------+--------+----------+------------------+-----------+\n",
      "|_c0| id|      date|store_nbr|    family|sales|onpromotion|transactions|dcoilwtico|tipo_feriado| d_local|nome_local|         descricao|transferido|\n",
      "+---+---+----------+---------+----------+-----+-----------+------------+----------+------------+--------+----------+------------------+-----------+\n",
      "| 41|0.0|2013-01-01|      1.0|AUTOMOTIVE|  0.0|        0.0|        NULL|      NULL|     Holiday|National|   Ecuador|Primer dia del ano|      false|\n",
      "| 42|1.0|2013-01-01|      1.0| BABY CARE|  0.0|        0.0|        NULL|      NULL|     Holiday|National|   Ecuador|Primer dia del ano|      false|\n",
      "| 43|2.0|2013-01-01|      1.0|    BEAUTY|  0.0|        0.0|        NULL|      NULL|     Holiday|National|   Ecuador|Primer dia del ano|      false|\n",
      "| 44|3.0|2013-01-01|      1.0| BEVERAGES|  0.0|        0.0|        NULL|      NULL|     Holiday|National|   Ecuador|Primer dia del ano|      false|\n",
      "| 45|4.0|2013-01-01|      1.0|     BOOKS|  0.0|        0.0|        NULL|      NULL|     Holiday|National|   Ecuador|Primer dia del ano|      false|\n",
      "+---+---+----------+---------+----------+-----+-----------+------------+----------+------------+--------+----------+------------------+-----------+\n",
      "only showing top 5 rows\n",
      "\n",
      "Schema dos dados :\n",
      "root\n",
      " |-- _c0: integer (nullable = true)\n",
      " |-- id: double (nullable = true)\n",
      " |-- date: date (nullable = true)\n",
      " |-- store_nbr: double (nullable = true)\n",
      " |-- family: string (nullable = true)\n",
      " |-- sales: double (nullable = true)\n",
      " |-- onpromotion: double (nullable = true)\n",
      " |-- transactions: double (nullable = true)\n",
      " |-- dcoilwtico: double (nullable = true)\n",
      " |-- tipo_feriado: string (nullable = true)\n",
      " |-- d_local: string (nullable = true)\n",
      " |-- nome_local: string (nullable = true)\n",
      " |-- descricao: string (nullable = true)\n",
      " |-- transferido: boolean (nullable = true)\n",
      "\n"
     ]
    },
    {
     "name": "stderr",
     "output_type": "stream",
     "text": [
      "24/07/31 09:33:36 WARN CSVHeaderChecker: CSV header does not conform to the schema.\n",
      " Header: , id, date, store_nbr, family, sales, onpromotion, transactions, dcoilwtico, tipo_feriado, d_local, nome_local, descricao, transferido\n",
      " Schema: _c0, id, date, store_nbr, family, sales, onpromotion, transactions, dcoilwtico, tipo_feriado, d_local, nome_local, descricao, transferido\n",
      "Expected: _c0 but found: \n",
      "CSV file: file:///home/oberdan_admin/.vscode-server/pyspark_proj/pyspark_proj/dados/test_favorita/vendas_resum_favorita.csv\n"
     ]
    }
   ],
   "source": [
    "# Carregar, Ler, visualizar e Checar Schema do dataset holidays_events\n",
    "path_vrf = ('./dados/test_favorita/vendas_resum_favorita.csv')\n",
    "\n",
    "df_vrf = spark.read\\\n",
    "    .format(\"csv\")\\\n",
    "    .option('sep', ',')\\\n",
    "    .option('header', 'true')\\\n",
    "    .option('inferSchema', 'true')\\\n",
    "    .csv(path_vrf)\n",
    "\n",
    "print(\"Visualizando os dados :\")\n",
    "df_vrf.show(5)\n",
    "\n",
    "print(\"Schema dos dados :\")\n",
    "df_vrf.printSchema()"
   ]
  },
  {
   "cell_type": "code",
   "execution_count": 10,
   "id": "7458d4db-3218-4aaa-bb44-d61e1ae75957",
   "metadata": {},
   "outputs": [
    {
     "name": "stderr",
     "output_type": "stream",
     "text": [
      "[Stage 3:>                                                        (0 + 16) / 16]\r"
     ]
    },
    {
     "name": "stdout",
     "output_type": "stream",
     "text": [
      "Contagem de linhas do DataFrame  : 3054352\n",
      "Contagem de colunas do DataFrame : 14\n"
     ]
    },
    {
     "name": "stderr",
     "output_type": "stream",
     "text": [
      "                                                                                \r"
     ]
    }
   ],
   "source": [
    "# Contagem de linhas e colunas do dataset df_vrf\n",
    "linhas = df_vrf.count()\n",
    "print(f\"Contagem de linhas do DataFrame  : {linhas}\")\n",
    "colunas = len(df_vrf.columns)\n",
    "print(f\"Contagem de colunas do DataFrame : {colunas}\")"
   ]
  },
  {
   "cell_type": "code",
   "execution_count": 11,
   "id": "be62fac3-26c9-49f3-aa52-db39f9974782",
   "metadata": {},
   "outputs": [
    {
     "name": "stderr",
     "output_type": "stream",
     "text": [
      "24/07/31 09:33:38 WARN CSVHeaderChecker: CSV header does not conform to the schema.\n",
      " Header: , id, date, store_nbr, family, sales, onpromotion, transactions, dcoilwtico, tipo_feriado, d_local, nome_local, descricao, transferido\n",
      " Schema: _c0, id, date, store_nbr, family, sales, onpromotion, transactions, dcoilwtico, tipo_feriado, d_local, nome_local, descricao, transferido\n",
      "Expected: _c0 but found: \n",
      "CSV file: file:///home/oberdan_admin/.vscode-server/pyspark_proj/pyspark_proj/dados/test_favorita/vendas_resum_favorita.csv\n",
      "[Stage 6:===>                                                     (1 + 15) / 16]\r"
     ]
    },
    {
     "name": "stdout",
     "output_type": "stream",
     "text": [
      "+---+---+----+---------+------+-----+-----------+------------+----------+------------+-------+----------+---------+-----------+\n",
      "|_c0| id|date|store_nbr|family|sales|onpromotion|transactions|dcoilwtico|tipo_feriado|d_local|nome_local|descricao|transferido|\n",
      "+---+---+----+---------+------+-----+-----------+------------+----------+------------+-------+----------+---------+-----------+\n",
      "|  0|  4|   0|        4|     4|    4|          4|      249121|    955156|     2551824|2551824|   2551824|  2551824|    2551824|\n",
      "+---+---+----+---------+------+-----+-----------+------------+----------+------------+-------+----------+---------+-----------+\n",
      "\n"
     ]
    },
    {
     "name": "stderr",
     "output_type": "stream",
     "text": [
      "                                                                                \r"
     ]
    }
   ],
   "source": [
    "# Calculando  valores nulos do dataset df_vrf\n",
    "df_vrf.select([F.count(F.when(F.isnull(c), c))\\\n",
    "          .alias(c) for c in df_vrf.columns]).show()"
   ]
  },
  {
   "cell_type": "code",
   "execution_count": 13,
   "id": "c80941e6-cb34-4bfb-8c1f-5ee798a86351",
   "metadata": {},
   "outputs": [],
   "source": [
    "# Crie uma cópia do dataframe para fazer os testes e  responder a perguntas\n",
    "df_vrf1 = df_vrf.alias('df_vrf1')"
   ]
  },
  {
   "cell_type": "markdown",
   "id": "848e2a1a-ac2e-42f8-ad17-0c83eed5599c",
   "metadata": {},
   "source": [
    "TESTE DE HIPOTESES USANDO TESTE T E RESPONDENDO PERGUNTAS"
   ]
  },
  {
   "cell_type": "markdown",
   "id": "d05a8be7-c608-4ed3-a83f-696459582a21",
   "metadata": {},
   "source": [
    "Um teste t é parametrico que compara as médias de dois grupos de dados e informa se eles são significativamente diferentes um do outro. Como premissa, ele assume que os dados são normalmente distribuídos, que os grupos têm variâncias iguais e que as observações são independentes. Ele ajuda a avaliar se as diferenças observadas entre as médias da amostra dos grupos provavelmente ocorreram devido ao acaso ou se são estatisticamente significativas. Em outras palavras, ele no ajudará a determinar se as atividades promocionais impactaram significativamente as vendas da Corporation Favorita nas lojas.\n",
    "\n",
    "Hipótese nula (H0): A intensidade da promoção (onpromotion) não tem um impacto significativo nas vendas médias dos produtos. \n",
    "Hipótese alternativa (H1): A intensidade da promoção (onpromotion) tem um impacto significativo nas vendas médias dos produtos."
   ]
  },
  {
   "cell_type": "code",
   "execution_count": 14,
   "id": "57171de0-7c7c-4bf6-af62-bb284a9b4bf5",
   "metadata": {},
   "outputs": [
    {
     "name": "stderr",
     "output_type": "stream",
     "text": [
      "                                                                                \r"
     ]
    }
   ],
   "source": [
    "# Dividir a variável onpromotion em produtos promovidos e produtos não promovidos\n",
    "dados_prom = df_vrf1[df_vrf1['onpromotion'] >= 1]\n",
    "dados_nao_prom = df_vrf1[df_vrf1['onpromotion'] < 1]\n",
    "list_teste = dados_prom.select(\"onpromotion\").rdd.flatMap(list).collect()\n",
    "list_teste1 = dados_nao_prom.select(\"onpromotion\").rdd.flatMap(list).collect()"
   ]
  },
  {
   "cell_type": "code",
   "execution_count": 15,
   "id": "211d34fb-2060-4c37-91cc-3f05a1fa9e25",
   "metadata": {},
   "outputs": [
    {
     "name": "stdout",
     "output_type": "stream",
     "text": [
      "Médias de vendas para produtos promovidos:\n"
     ]
    },
    {
     "name": "stderr",
     "output_type": "stream",
     "text": [
      "                                                                                \r"
     ]
    },
    {
     "name": "stdout",
     "output_type": "stream",
     "text": [
      "+------------------+\n",
      "|        avg(sales)|\n",
      "+------------------+\n",
      "|1139.8286947893275|\n",
      "+------------------+\n",
      "\n",
      "Médias de vendas médias para produtos não promovidos:\n"
     ]
    },
    {
     "name": "stderr",
     "output_type": "stream",
     "text": [
      "[Stage 14:=============================================>          (13 + 3) / 16]\r"
     ]
    },
    {
     "name": "stdout",
     "output_type": "stream",
     "text": [
      "+-----------------+\n",
      "|       avg(sales)|\n",
      "+-----------------+\n",
      "|157.8104722009354|\n",
      "+-----------------+\n",
      "\n"
     ]
    },
    {
     "name": "stderr",
     "output_type": "stream",
     "text": [
      "                                                                                \r"
     ]
    }
   ],
   "source": [
    "# Calcular vendas médias para produtos promovidos e não promovidos\n",
    "print(\"Médias de vendas para produtos promovidos:\")\n",
    "med_vend_prom = dados_prom.select(avg('sales')).show()\n",
    "print(\"Médias de vendas médias para produtos não promovidos:\")\n",
    "med_vend_nao_prom = dados_nao_prom.select(avg('sales')).show()"
   ]
  },
  {
   "cell_type": "code",
   "execution_count": 16,
   "id": "d0b42521-fd89-4df4-b352-0bbf9af9ed41",
   "metadata": {},
   "outputs": [
    {
     "name": "stdout",
     "output_type": "stream",
     "text": [
      "T-estatistico: 810.5602101213514\n",
      "P-value: 0.000\n",
      "Conclusão: Rejeite a hipótese nula\n"
     ]
    }
   ],
   "source": [
    "# Realizar um teste t com base nos valores de vendas\n",
    "t_statistic, p_value = ttest_ind(list_teste, list_teste1)\n",
    "\n",
    "# Determinar o nível de significância (alfa)\n",
    "alpha = 0.05\n",
    "\n",
    "# Verifique se o valor p é menor que o nível de significância\n",
    "if p_value < alpha:\n",
    "    result = \"Rejeite a hipótese nula\"\n",
    "else:\n",
    "    result = \"Não rejeitar a hipótese nula\"\n",
    "\n",
    "# Imprima os resultados com o p_valor formatado com três casas decimais\n",
    "print(\"T-estatistico:\", t_statistic)\n",
    "print(f\"P-value: {p_value:.3f}\")  # Format p-value to three decimal places\n",
    "print(\"Conclusão:\", result)"
   ]
  },
  {
   "cell_type": "markdown",
   "id": "e0749835-8e4a-496a-8842-0d2ae40d586b",
   "metadata": {},
   "source": [
    "Notas\n",
    "A média de vendas para produtos promovidos é de aproximadamente 1139,83. A média de vendas para produtos não promovidos é de aproximadamente 157,81. A estatística t calculada é de aproximadamente 810,56. O p_valor calculado é 0,000. A média de vendas para produtos promovidos é maior do que a média de vendas para produtos não promovidos\n",
    "\n",
    "Com base no p_valor sendo significativamente menor do que o nível de significância de 0,05, podemos rejeitar a hipótese nula. Isso sugere que há uma diferença significativa entre as vendas médias de produtos promovidos e produtos não promovidos. Em outras palavras, a presença de promoções tem um efeito positivo estatisticamente significativo nas vendas de produtos."
   ]
  },
  {
   "cell_type": "markdown",
   "id": "132a36c4-fb6c-469c-9724-4882796ac37d",
   "metadata": {},
   "source": [
    "Perguntas analíticas importantes"
   ]
  },
  {
   "cell_type": "markdown",
   "id": "916a791f-5060-4647-9bdb-c4a935c4fd50",
   "metadata": {},
   "source": [
    "Pergunta 1: Quais datas têm as menores e maiores vendas em cada ano?"
   ]
  },
  {
   "cell_type": "code",
   "execution_count": 17,
   "id": "3cdfc172-3a42-4038-95fd-a86fec9676a8",
   "metadata": {},
   "outputs": [
    {
     "name": "stdout",
     "output_type": "stream",
     "text": [
      "+---+---+----------+---------+----------+-----+-----------+------------+----------+------------+--------+----------+------------------+-----------+----+\n",
      "|_c0| id|      date|store_nbr|    family|sales|onpromotion|transactions|dcoilwtico|tipo_feriado| d_local|nome_local|         descricao|transferido| ano|\n",
      "+---+---+----------+---------+----------+-----+-----------+------------+----------+------------+--------+----------+------------------+-----------+----+\n",
      "| 41|0.0|2013-01-01|      1.0|AUTOMOTIVE|  0.0|        0.0|        NULL|      NULL|     Holiday|National|   Ecuador|Primer dia del ano|      false|2013|\n",
      "| 42|1.0|2013-01-01|      1.0| BABY CARE|  0.0|        0.0|        NULL|      NULL|     Holiday|National|   Ecuador|Primer dia del ano|      false|2013|\n",
      "| 43|2.0|2013-01-01|      1.0|    BEAUTY|  0.0|        0.0|        NULL|      NULL|     Holiday|National|   Ecuador|Primer dia del ano|      false|2013|\n",
      "| 44|3.0|2013-01-01|      1.0| BEVERAGES|  0.0|        0.0|        NULL|      NULL|     Holiday|National|   Ecuador|Primer dia del ano|      false|2013|\n",
      "| 45|4.0|2013-01-01|      1.0|     BOOKS|  0.0|        0.0|        NULL|      NULL|     Holiday|National|   Ecuador|Primer dia del ano|      false|2013|\n",
      "+---+---+----------+---------+----------+-----+-----------+------------+----------+------------+--------+----------+------------------+-----------+----+\n",
      "only showing top 5 rows\n",
      "\n"
     ]
    },
    {
     "name": "stderr",
     "output_type": "stream",
     "text": [
      "24/07/31 09:35:36 WARN CSVHeaderChecker: CSV header does not conform to the schema.\n",
      " Header: , id, date, store_nbr, family, sales, onpromotion, transactions, dcoilwtico, tipo_feriado, d_local, nome_local, descricao, transferido\n",
      " Schema: _c0, id, date, store_nbr, family, sales, onpromotion, transactions, dcoilwtico, tipo_feriado, d_local, nome_local, descricao, transferido\n",
      "Expected: _c0 but found: \n",
      "CSV file: file:///home/oberdan_admin/.vscode-server/pyspark_proj/pyspark_proj/dados/test_favorita/vendas_resum_favorita.csv\n"
     ]
    }
   ],
   "source": [
    "# Extrair ano da coluna 'date'\n",
    "df_ano = df_vrf1.withColumn('ano', year(df_vrf1.date))\n",
    "df_ano.show(5)"
   ]
  },
  {
   "cell_type": "code",
   "execution_count": 18,
   "id": "1b202950-a247-43fe-ba10-6771b6b60782",
   "metadata": {},
   "outputs": [],
   "source": [
    "# Agrupar por ano e calcular vendas mínimas e máximas\n",
    "vendas_yearly = df_ano.groupby('ano').agg(min('sales').alias(\"venda_min\"), max('sales').alias(\"vendas_max\"))\n"
   ]
  },
  {
   "cell_type": "code",
   "execution_count": 19,
   "id": "ae98faf1-7078-4850-8f8f-db4530c47594",
   "metadata": {},
   "outputs": [
    {
     "name": "stdout",
     "output_type": "stream",
     "text": [
      "\n",
      "Datas com menores vendas em cada ano:\n"
     ]
    },
    {
     "name": "stderr",
     "output_type": "stream",
     "text": [
      "                                                                                \r"
     ]
    },
    {
     "name": "stdout",
     "output_type": "stream",
     "text": [
      "+----+----------+--------+----------+\n",
      "| ano| min(date)|min(ano)|min(sales)|\n",
      "+----+----------+--------+----------+\n",
      "|2013|2013-01-01|    2013|       0.0|\n",
      "|2014|2014-01-01|    2014|       0.0|\n",
      "|2015|2015-01-01|    2015|       0.0|\n",
      "|2016|2016-01-01|    2016|       0.0|\n",
      "|2017|2017-01-01|    2017|       0.0|\n",
      "+----+----------+--------+----------+\n",
      "\n",
      "\n",
      "Datas com maiores vendas em cada ano:\n"
     ]
    },
    {
     "name": "stderr",
     "output_type": "stream",
     "text": [
      "[Stage 21:=======>                                                (2 + 14) / 16]\r"
     ]
    },
    {
     "name": "stdout",
     "output_type": "stream",
     "text": [
      "+----+----------+--------+----------+\n",
      "| ano| max(date)|max(ano)|max(sales)|\n",
      "+----+----------+--------+----------+\n",
      "|2013|2013-12-31|    2013|   46271.0|\n",
      "|2014|2014-12-31|    2014|   45361.0|\n",
      "|2015|2015-12-31|    2015|  40351.46|\n",
      "|2016|2016-12-31|    2016|  124717.0|\n",
      "|2017|2017-08-15|    2017| 38422.625|\n",
      "+----+----------+--------+----------+\n",
      "\n"
     ]
    },
    {
     "name": "stderr",
     "output_type": "stream",
     "text": [
      "                                                                                \r"
     ]
    }
   ],
   "source": [
    "# Encontre as datas com menores e maiores vendas para cada ano\n",
    "print(\"\\nDatas com menores vendas em cada ano:\")\n",
    "datas_menores_vendas = df_ano.groupby('ano').agg({'ano': 'min', 'date': 'min', 'sales':'min'}).show()\n",
    "print(\"\\nDatas com maiores vendas em cada ano:\")\n",
    "datas_maiores_vendas = df_ano.groupby('ano').agg({'ano': 'max', 'date': 'max', 'sales':'max'}).show()"
   ]
  },
  {
   "cell_type": "markdown",
   "id": "96d78aba-1cd8-4d98-9772-d23afc41a496",
   "metadata": {},
   "source": [
    "Nota: Datas com vendas menores e maiores para cada ano\n",
    "Vendas menores: \n",
    "Esses dados indicam que nas datas mencionadas, as vendas estavam no seu nível mais baixo, e o valor de vendas registrado para essas datas foi 0,0 para todos os anos (2013, 2014, 2015, 2016 e 2017). Isso pode ser devido a vários fatores, como feriados, eventos especiais ou outras circunstâncias que levaram a uma menor atividade de vendas nessas datas específicas.\n",
    "Vendas maiores:\n",
    "Notas Datas com maiores vendas para cada ano No ano de 2013, as maiores vendas de 46.271.000 ocorreram em 12 de novembro de 2013. No ano de 2014, as maiores vendas de 45.361.000 ocorreram em 8 de dezembro de 2014. No ano de 2015, as maiores vendas de 40.351.460 ocorreram em 14 de dezembro de 2015. No ano de 2016, as maiores vendas de 124.717.000 ocorreram em 2 de maio de 2016. No ano de 2017, as maiores vendas de 38.422.625 ocorreram em 2 de abril de 2017. Essas datas representam os dias com os maiores valores de vendas em cada ano respectivo. Essas informações podem ser valiosas para entender tendências no desempenho de vendas e identificar eventos ou promoções potencialmente impactantes que levaram a esses dias de altas vendas."
   ]
  },
  {
   "cell_type": "markdown",
   "id": "909a3c79-3506-47ed-b998-d3dcbcae9b06",
   "metadata": {},
   "source": [
    "Pergunta 2: Quais lojas estão entre as 10 maiores em termos de vendas totais?"
   ]
  },
  {
   "cell_type": "code",
   "execution_count": 20,
   "id": "1513ceb8-807c-498e-bc28-fdf7a6aaae64",
   "metadata": {},
   "outputs": [],
   "source": [
    "# Agrupar dados por número de loja e calcular o total de vendas para cada loja\n",
    "loja_vendas = df_vrf1.groupby('store_nbr').agg(sum('sales').alias(\"Vendas\"))"
   ]
  },
  {
   "cell_type": "code",
   "execution_count": 23,
   "id": "27ce8edb-1037-4e0b-a60c-5a8f53458f06",
   "metadata": {},
   "outputs": [
    {
     "name": "stdout",
     "output_type": "stream",
     "text": [
      "\n",
      "As 10 maiores lojas em termos de vendas totais:\n"
     ]
    }
   ],
   "source": [
    "# Classifique as lojas por vendas totais em ordem decrescente e selecione as 10 principais\n",
    "print(\"\\nAs 10 maiores lojas em termos de vendas totais:\")\n",
    "top_10_stores = loja_vendas.sort(desc('Vendas'))"
   ]
  },
  {
   "cell_type": "code",
   "execution_count": 24,
   "id": "98137c4b-37c7-431f-85c4-60c0f667b9e9",
   "metadata": {},
   "outputs": [
    {
     "name": "stderr",
     "output_type": "stream",
     "text": [
      "[Stage 27:=====================>                                  (6 + 10) / 16]\r"
     ]
    },
    {
     "name": "stdout",
     "output_type": "stream",
     "text": [
      "+---------+--------------------+\n",
      "|store_nbr|              Vendas|\n",
      "+---------+--------------------+\n",
      "|     44.0| 6.335613722999901E7|\n",
      "|     45.0|    5.568902200246E7|\n",
      "|     47.0|   5.2024475956001E7|\n",
      "|      3.0| 5.153352813585101E7|\n",
      "|     49.0|   4.4346822760066E7|\n",
      "|     46.0|  4.28047272936452E7|\n",
      "|     48.0|3.6741804099816486E7|\n",
      "|     51.0| 3.360386127734601E7|\n",
      "|      8.0|3.1124067145028986E7|\n",
      "|     50.0|2.9273750996574305E7|\n",
      "+---------+--------------------+\n",
      "only showing top 10 rows\n",
      "\n"
     ]
    },
    {
     "name": "stderr",
     "output_type": "stream",
     "text": [
      "                                                                                \r"
     ]
    }
   ],
   "source": [
    "top_10_stores.show(10)"
   ]
  },
  {
   "cell_type": "markdown",
   "id": "cd76012a-806b-451b-ad54-57c399949ee1",
   "metadata": {},
   "source": [
    "Nota:\n",
    "A loja com número de loja 44 tem o maior valor total de vendas de aproximadamente 62.087.550, seguida pela loja com número de loja 45 com um valor total de vendas de aproximadamente 54.498.010. O menor total de vendas é a loja número 50. Essas informações nos dão insights sobre as lojas que geraram o maior total de vendas, nos ajudando a entender a distribuição das vendas entre as lojas de melhor desempenho."
   ]
  },
  {
   "cell_type": "markdown",
   "id": "04ee0fc8-f291-422b-ab41-08523ecd7123",
   "metadata": {},
   "source": [
    "Pergunta 3: Determinar se certos grupos de lojas vendem mais produtos"
   ]
  },
  {
   "cell_type": "code",
   "execution_count": 26,
   "id": "3cf7cbd8-dd69-4b42-8ad8-6c03f7281ecd",
   "metadata": {},
   "outputs": [],
   "source": [
    "# Agrupe por cluster e calcule a média de vendas\n",
    "med_vend_cidad = df_vrf1.groupby('nome_local').agg(avg('sales').alias(\"Vendas\"))"
   ]
  },
  {
   "cell_type": "code",
   "execution_count": 28,
   "id": "6fce47f6-af9c-4b31-96da-56435f7c8475",
   "metadata": {},
   "outputs": [
    {
     "name": "stdout",
     "output_type": "stream",
     "text": [
      "\n",
      "Classificação de Cluster em termos de médias vendas:\n"
     ]
    },
    {
     "name": "stderr",
     "output_type": "stream",
     "text": [
      "[Stage 30:==========>                                             (3 + 13) / 16]\r"
     ]
    },
    {
     "name": "stdout",
     "output_type": "stream",
     "text": [
      "+--------------------+------------------+\n",
      "|          nome_local|            Vendas|\n",
      "+--------------------+------------------+\n",
      "|             Salinas| 558.6629900715911|\n",
      "|               Quito|436.48943825182386|\n",
      "|            Cotopaxi|  427.235777607744|\n",
      "|       Santo Domingo|424.58217165232315|\n",
      "|           El Carmen|424.58217165232315|\n",
      "|             Ecuador| 416.7510691031219|\n",
      "|               Manta| 390.1218395313131|\n",
      "|                Loja|388.01707893490465|\n",
      "|Santo Domingo de ...| 387.7747267207491|\n",
      "|         Santa Elena|380.30274759248016|\n",
      "+--------------------+------------------+\n",
      "only showing top 10 rows\n",
      "\n"
     ]
    },
    {
     "name": "stderr",
     "output_type": "stream",
     "text": [
      "                                                                                \r"
     ]
    }
   ],
   "source": [
    "# Classifique os cluster por média de vendas em ordem decrescente \n",
    "print(\"\\nClassificação de Cluster em termos de médias vendas:\")\n",
    "top_vend_cidad = med_vend_cidad.sort(desc('Vendas'))\n",
    "top_vend_cidad.show(10)"
   ]
  },
  {
   "cell_type": "markdown",
   "id": "0dda29c6-ee2d-4b64-9067-993773f052c1",
   "metadata": {},
   "source": [
    "Pergunta 4: Quais famílias de produtos foram as mais frequentemente compradas (Top 5)"
   ]
  },
  {
   "cell_type": "code",
   "execution_count": 39,
   "id": "dcef915e-48c1-4ed3-afca-7da1b253f594",
   "metadata": {},
   "outputs": [
    {
     "name": "stderr",
     "output_type": "stream",
     "text": [
      "[Stage 33:===>                                                    (1 + 15) / 16]\r"
     ]
    },
    {
     "name": "stdout",
     "output_type": "stream",
     "text": [
      "+-------------------+--------------------+\n",
      "|             family|         Vendas_prod|\n",
      "+-------------------+--------------------+\n",
      "|     PREPARED FOODS|   8966728.108912507|\n",
      "|HOME AND KITCHEN II|           1556511.0|\n",
      "|         LADIESWEAR|            668542.0|\n",
      "|    LAWN AND GARDEN|            559639.0|\n",
      "|          GROCERY I| 3.508272979900001E8|\n",
      "|          BABY CARE|             10330.0|\n",
      "|            PRODUCE|1.2544796802496998E8|\n",
      "|         AUTOMOTIVE|            566398.0|\n",
      "|          BEVERAGES|         2.2166354E8|\n",
      "|          HOME CARE|         1.6409522E7|\n",
      "+-------------------+--------------------+\n",
      "only showing top 10 rows\n",
      "\n"
     ]
    },
    {
     "name": "stderr",
     "output_type": "stream",
     "text": [
      "                                                                                \r"
     ]
    }
   ],
   "source": [
    "# Agrupar dados por família e calcular o total de vendas para cada família\n",
    "family_vendas = df_vrf1.groupby('family').agg(sum('sales').alias(\"Vendas_prod\"))\n",
    "family_vendas.show(10)"
   ]
  },
  {
   "cell_type": "code",
   "execution_count": 40,
   "id": "8cd038b6-a5b6-4c08-9efc-3899793c275e",
   "metadata": {},
   "outputs": [],
   "source": [
    "# Classifique as famílias por vendas totais em ordem decrescente e selecione as 5 principais\n",
    "top_5_families = family_vendas.sort(desc('Vendas_prod'))"
   ]
  },
  {
   "cell_type": "code",
   "execution_count": 41,
   "id": "7b1f618b-833f-4e14-b669-c4b3a4a2d4ba",
   "metadata": {},
   "outputs": [
    {
     "name": "stderr",
     "output_type": "stream",
     "text": [
      "[Stage 36:==========>                                             (3 + 13) / 16]\r"
     ]
    },
    {
     "name": "stdout",
     "output_type": "stream",
     "text": [
      "+---------+--------------------+\n",
      "|   family|         Vendas_prod|\n",
      "+---------+--------------------+\n",
      "|GROCERY I| 3.508272979900001E8|\n",
      "|BEVERAGES|         2.2166354E8|\n",
      "|  PRODUCE|1.2544796802496998E8|\n",
      "| CLEANING|         9.9421019E7|\n",
      "|    DAIRY|         6.5823605E7|\n",
      "+---------+--------------------+\n",
      "only showing top 5 rows\n",
      "\n"
     ]
    },
    {
     "name": "stderr",
     "output_type": "stream",
     "text": [
      "                                                                                \r"
     ]
    }
   ],
   "source": [
    "top_5_families.show(5)"
   ]
  },
  {
   "cell_type": "markdown",
   "id": "c959201d-77a2-44e3-be1d-c59697ab1e05",
   "metadata": {},
   "source": [
    "Nota:\n",
    "A família \"MERCADOS I\" tem o maior total de vendas, seguida por \"BEBIDAS\", \"PRODUTOS\", \"LIMPEZA\" e \"LATICÍNIOS\". Essas famílias de produtos têm vendas totais significativamente maiores em comparação a outras famílias no conjunto de dados. Essas informações podem ser valiosas para entender as preferências do cliente e otimizar as ofertas de produtos nessas categorias de alto desempenho."
   ]
  },
  {
   "cell_type": "markdown",
   "id": "4c73baac-03da-4d42-8b34-23ed2e86ebe5",
   "metadata": {},
   "source": [
    "Pergunta 5: Existe alguma associação entre as vendas por promoções, preços do petróleo e transações?"
   ]
  },
  {
   "cell_type": "code",
   "execution_count": 42,
   "id": "c8ca281e-dea1-4d2d-b485-5237bf004447",
   "metadata": {},
   "outputs": [],
   "source": [
    "# Remover as colunas irrelevantes\n",
    "df_correla = df_vrf1.drop(\"_c0\", \"family\", \"id\", \"date\", \"store_nbr\", \"d_local\", \"nome_local\", \"descricao\")"
   ]
  },
  {
   "cell_type": "code",
   "execution_count": 43,
   "id": "7db6755a-9fe9-475c-bccd-c8e724235b82",
   "metadata": {},
   "outputs": [
    {
     "name": "stderr",
     "output_type": "stream",
     "text": [
      "[Stage 39:==========================================>             (12 + 4) / 16]\r"
     ]
    },
    {
     "name": "stdout",
     "output_type": "stream",
     "text": [
      "+-----+-----------+------------+----------+------------+-----------+\n",
      "|sales|onpromotion|transactions|dcoilwtico|tipo_feriado|transferido|\n",
      "+-----+-----------+------------+----------+------------+-----------+\n",
      "|    4|          4|      249121|    955156|     2551824|    2551824|\n",
      "+-----+-----------+------------+----------+------------+-----------+\n",
      "\n"
     ]
    },
    {
     "name": "stderr",
     "output_type": "stream",
     "text": [
      "                                                                                \r"
     ]
    }
   ],
   "source": [
    "# Calculando  valores nulos do dataset df_vrf\n",
    "df_correla.select([count(when(isnull(c), c))\\\n",
    "          .alias(c) for c in df_correla.columns]).show()"
   ]
  },
  {
   "cell_type": "markdown",
   "id": "21ebe4ea-f066-40c8-b877-2fcfc649cd82",
   "metadata": {},
   "source": [
    "Abordagens para lidar com dados ausentes"
   ]
  },
  {
   "cell_type": "code",
   "execution_count": 44,
   "id": "05aaf7a2-8afd-4ee1-adb1-004971f5df4c",
   "metadata": {},
   "outputs": [],
   "source": [
    "# AB1:Para vendas e onpromotion serão tratados, retirando os valores em ausentes\n",
    "df_correla = df_correla.dropna(subset=[\"sales\", \"onpromotion\"]) "
   ]
  },
  {
   "cell_type": "code",
   "execution_count": 45,
   "id": "82512c39-5491-4a8d-b47b-329dc75c4a2a",
   "metadata": {},
   "outputs": [],
   "source": [
    "# AB2: Para transações, substituiremos os valores na por 0, pois isso significa que nenhuma transação foi registrada na data mencionada\n",
    "# Crie uma instância SimpleImputer com a estratégia definida como 'constante' e fill_value definido como 0\n",
    "df_correla = df_correla.fillna(0, subset=[\"transactions\"])"
   ]
  },
  {
   "cell_type": "code",
   "execution_count": 46,
   "id": "13cd0a30-4c7d-4ae9-8f93-ab621f82ceaa",
   "metadata": {},
   "outputs": [
    {
     "data": {
      "text/plain": [
       "DataFrame[sales: double, onpromotion: double, transactions: double, dcoilwtico: double, tipo_feriado: string, transferido: boolean]"
      ]
     },
     "execution_count": 46,
     "metadata": {},
     "output_type": "execute_result"
    }
   ],
   "source": [
    "# AB3: Utilizarei 'na.fill'. Este parâmetro será responsável por preencher os  valores ausentes do tipo de feriado e transferido\n",
    "df_correla.na.fill(\"Not Holiday\", \"tipo_feriado\")\n",
    "df_correla.na.fill(\"False\", \"transferido\")"
   ]
  },
  {
   "cell_type": "code",
   "execution_count": 47,
   "id": "6cbcccd9-4b2b-4820-a3f2-388fd94da158",
   "metadata": {},
   "outputs": [
    {
     "name": "stderr",
     "output_type": "stream",
     "text": [
      "                                                                                \r"
     ]
    },
    {
     "name": "stdout",
     "output_type": "stream",
     "text": [
      "+-----+-----------+------------+----------+------------+-----------+------------------+\n",
      "|sales|onpromotion|transactions|dcoilwtico|tipo_feriado|transferido|imputed_dcoilwtico|\n",
      "+-----+-----------+------------+----------+------------+-----------+------------------+\n",
      "|  0.0|        0.0|         0.0|      NULL|     Holiday|      false| 68.01587436333057|\n",
      "|  0.0|        0.0|         0.0|      NULL|     Holiday|      false| 68.01587436333057|\n",
      "|  0.0|        0.0|         0.0|      NULL|     Holiday|      false| 68.01587436333057|\n",
      "|  0.0|        0.0|         0.0|      NULL|     Holiday|      false| 68.01587436333057|\n",
      "|  0.0|        0.0|         0.0|      NULL|     Holiday|      false| 68.01587436333057|\n",
      "|  0.0|        0.0|         0.0|      NULL|     Holiday|      false| 68.01587436333057|\n",
      "|  0.0|        0.0|         0.0|      NULL|     Holiday|      false| 68.01587436333057|\n",
      "|  0.0|        0.0|         0.0|      NULL|     Holiday|      false| 68.01587436333057|\n",
      "|  0.0|        0.0|         0.0|      NULL|     Holiday|      false| 68.01587436333057|\n",
      "|  0.0|        0.0|         0.0|      NULL|     Holiday|      false| 68.01587436333057|\n",
      "|  0.0|        0.0|         0.0|      NULL|     Holiday|      false| 68.01587436333057|\n",
      "|  0.0|        0.0|         0.0|      NULL|     Holiday|      false| 68.01587436333057|\n",
      "|  0.0|        0.0|         0.0|      NULL|     Holiday|      false| 68.01587436333057|\n",
      "|  0.0|        0.0|         0.0|      NULL|     Holiday|      false| 68.01587436333057|\n",
      "|  0.0|        0.0|         0.0|      NULL|     Holiday|      false| 68.01587436333057|\n",
      "|  0.0|        0.0|         0.0|      NULL|     Holiday|      false| 68.01587436333057|\n",
      "|  0.0|        0.0|         0.0|      NULL|     Holiday|      false| 68.01587436333057|\n",
      "|  0.0|        0.0|         0.0|      NULL|     Holiday|      false| 68.01587436333057|\n",
      "|  0.0|        0.0|         0.0|      NULL|     Holiday|      false| 68.01587436333057|\n",
      "|  0.0|        0.0|         0.0|      NULL|     Holiday|      false| 68.01587436333057|\n",
      "+-----+-----------+------------+----------+------------+-----------+------------------+\n",
      "only showing top 20 rows\n",
      "\n"
     ]
    }
   ],
   "source": [
    "# AB4:Imputando valores de NA com tendência central medida, usando média\n",
    "imputer = Imputer(inputCols=[\"dcoilwtico\"], outputCols=[\"imputed_dcoilwtico\"]).setStrategy(\"mean\")\n",
    "\n",
    "# Ajuste e transforme o Imputer ao seu DataFrame. Isso significa que ele analisará os dados e calculará as estatísticas de imputação\n",
    "df_base_cor = imputer.fit(df_correla).transform(df_correla)\n",
    "df_base_cor.show()"
   ]
  },
  {
   "cell_type": "markdown",
   "id": "3b8c9dcc-7470-4590-87b4-d01da7b3319b",
   "metadata": {},
   "source": [
    "DE POSSE DAS VARIAVEIS PARA ANALISE DE CORRELAÇÃO, INICIAREI COM SELEÇÃO DE RECURSOS E VETORIZAÇÃO \n",
    "Na análise de correlação usarei como base o coeficientes de correlação de Pearson. Para apoiar esse processo de analise é essencial focar em características relevantes. Como a ideia é ter recursos relevantes removerei algumas colunas irrelevantes do dataset."
   ]
  },
  {
   "cell_type": "code",
   "execution_count": 48,
   "id": "2a8c8933-7897-4e00-b5b8-60502f8716ca",
   "metadata": {},
   "outputs": [],
   "source": [
    "# Removendo  colunas irrelevantes, pois não precisaremos delas Motivos \n",
    "df_matrix = df_base_cor.drop(\"dcoilwtico\", \"tipo_feriado\", \"transferido\")"
   ]
  },
  {
   "cell_type": "code",
   "execution_count": 49,
   "id": "37dbe605-d1de-441f-9ed9-edba32e48099",
   "metadata": {},
   "outputs": [],
   "source": [
    "# Alterando os tipos das variavies\n",
    "df_matrix1 = df_matrix.withColumn(\"onpromotion\", df_matrix.onpromotion.cast('int'))\n",
    "df_matrix2 = df_matrix1.withColumn(\"transactions\", df_matrix1.transactions.cast('int'))\n",
    "df_matrix3 = df_matrix2.withColumn(\"imputed_dcoilwtico\", df_matrix2.imputed_dcoilwtico.cast('int'))\n",
    "df_corr = df_matrix3.withColumn(\"sales\", df_matrix3.sales.cast('int'))"
   ]
  },
  {
   "cell_type": "code",
   "execution_count": 50,
   "id": "70913327-9ba6-438b-806c-186cc3ae9492",
   "metadata": {},
   "outputs": [
    {
     "name": "stdout",
     "output_type": "stream",
     "text": [
      "root\n",
      " |-- sales: integer (nullable = true)\n",
      " |-- onpromotion: integer (nullable = true)\n",
      " |-- transactions: integer (nullable = true)\n",
      " |-- imputed_dcoilwtico: integer (nullable = true)\n",
      "\n"
     ]
    }
   ],
   "source": [
    "df_corr.printSchema()"
   ]
  },
  {
   "cell_type": "markdown",
   "id": "62b14bd1-0ba0-4f8f-858e-fd88e4a63d30",
   "metadata": {},
   "source": [
    "Verificando a associações entre as variaveis"
   ]
  },
  {
   "cell_type": "code",
   "execution_count": 51,
   "id": "178b7c7f-608a-4b4a-8260-21f17b51de44",
   "metadata": {},
   "outputs": [
    {
     "name": "stdout",
     "output_type": "stream",
     "text": [
      "\n",
      "Associação estatística entre vendas e promoções:\n"
     ]
    },
    {
     "name": "stderr",
     "output_type": "stream",
     "text": [
      "                                                                                \r"
     ]
    },
    {
     "data": {
      "text/plain": [
       "0.42823064847725045"
      ]
     },
     "execution_count": 51,
     "metadata": {},
     "output_type": "execute_result"
    }
   ],
   "source": [
    "print(\"\\nAssociação estatística entre vendas e promoções:\")\n",
    "df_corr.corr(\"onpromotion\", \"sales\")"
   ]
  },
  {
   "cell_type": "code",
   "execution_count": 52,
   "id": "db2e3b5c-fb90-44f4-898f-c1d6908fc3e8",
   "metadata": {},
   "outputs": [
    {
     "name": "stdout",
     "output_type": "stream",
     "text": [
      "\n",
      "Associação estatística entre vendas e transações:\n"
     ]
    },
    {
     "name": "stderr",
     "output_type": "stream",
     "text": [
      "                                                                                \r"
     ]
    },
    {
     "data": {
      "text/plain": [
       "0.23299669988067903"
      ]
     },
     "execution_count": 52,
     "metadata": {},
     "output_type": "execute_result"
    }
   ],
   "source": [
    "print(\"\\nAssociação estatística entre vendas e transações:\")\n",
    "df_corr.corr(\"transactions\", \"sales\")"
   ]
  },
  {
   "cell_type": "code",
   "execution_count": 53,
   "id": "0f42653e-effe-44ee-94f3-383eac9a8282",
   "metadata": {},
   "outputs": [
    {
     "name": "stdout",
     "output_type": "stream",
     "text": [
      "\n",
      "Associação estatística entre vendas e preços do petroleo:\n"
     ]
    },
    {
     "name": "stderr",
     "output_type": "stream",
     "text": [
      "                                                                                \r"
     ]
    },
    {
     "data": {
      "text/plain": [
       "-0.057356166525012985"
      ]
     },
     "execution_count": 53,
     "metadata": {},
     "output_type": "execute_result"
    }
   ],
   "source": [
    "print(\"\\nAssociação estatística entre vendas e preços do petroleo:\")\n",
    "df_corr.corr(\"imputed_dcoilwtico\", \"sales\")"
   ]
  },
  {
   "cell_type": "code",
   "execution_count": 54,
   "id": "8169221a-53ed-47c3-83a8-1f663d21b92d",
   "metadata": {},
   "outputs": [],
   "source": [
    "# Selecionando recursos relevantes\n",
    "sel_features = [\"sales\", \"onpromotion\", \"transactions\", \"imputed_dcoilwtico\"]\n",
    "# Montar recursos em um vetor\n",
    "assembler = VectorAssembler(inputCols=sel_features, outputCol=\"features\")\n",
    "vendas_vectorized = assembler.transform(df_corr.select(sel_features))"
   ]
  },
  {
   "cell_type": "code",
   "execution_count": 55,
   "id": "a569497d-a9e4-4b11-971a-5f4a7afa5e65",
   "metadata": {},
   "outputs": [
    {
     "name": "stderr",
     "output_type": "stream",
     "text": [
      "24/07/31 10:24:08 WARN InstanceBuilder: Failed to load implementation from:dev.ludovic.netlib.blas.JNIBLAS\n",
      "                                                                                \r"
     ]
    },
    {
     "data": {
      "text/plain": [
       "Row(pearson(features)=DenseMatrix(4, 4, [1.0, 0.4282, 0.233, -0.0574, 0.4282, 1.0, 0.0513, -0.1374, 0.233, 0.0513, 1.0, -0.0466, -0.0574, -0.1374, -0.0466, 1.0], False))"
      ]
     },
     "execution_count": 55,
     "metadata": {},
     "output_type": "execute_result"
    }
   ],
   "source": [
    "# Calcule matrix de Correlação Pearson correlation. O método .head() é usado aqui para obter uma saída mais legível para a primeira linha. \n",
    "matrix_cor_pearson = Correlation.corr(vendas_vectorized, \"features\", method=\"pearson\").head()\n",
    "matrix_cor_pearson"
   ]
  },
  {
   "cell_type": "markdown",
   "id": "625b5485-b5b8-41f1-aa1a-53db6839b670",
   "metadata": {},
   "source": [
    "Nota: A matriz de correlação é tipicamente uma matriz quadrada onde cada entrada representa o coeficiente de correlação entre duas variáveis. O coeficiente de correlação varia de –1 a 1. Quando está próximo de 1, significa que há uma forte correlação positiva; por exemplo, o valor mediano tende a subir quando o número de cômodos aumenta."
   ]
  },
  {
   "cell_type": "code",
   "execution_count": 56,
   "id": "fa28dd6d-bdfa-4e71-84cc-704e73ff6eec",
   "metadata": {},
   "outputs": [
    {
     "data": {
      "text/plain": [
       "array([[ 1.        ,  0.42823065,  0.2329967 , -0.05735617],\n",
       "       [ 0.42823065,  1.        ,  0.05131412, -0.13737658],\n",
       "       [ 0.2329967 ,  0.05131412,  1.        , -0.04661636],\n",
       "       [-0.05735617, -0.13737658, -0.04661636,  1.        ]])"
      ]
     },
     "execution_count": 56,
     "metadata": {},
     "output_type": "execute_result"
    }
   ],
   "source": [
    "# Extraia a matriz de correlação como uma DenseMatrix\n",
    "corr_values = matrix_cor_pearson[ 0 ].toArray() \n",
    "corr_values"
   ]
  },
  {
   "cell_type": "markdown",
   "id": "7b0fb56a-217a-43a8-bb1c-d8cb2db4fd49",
   "metadata": {},
   "source": [
    "Visualizando a Matriz de Correlação"
   ]
  },
  {
   "cell_type": "code",
   "execution_count": 61,
   "id": "5c0a6bc1-98bd-436f-a036-b580d068ebe8",
   "metadata": {},
   "outputs": [],
   "source": [
    "# Convertendo a matriz de correlação em um Pandas DataFrame\n",
    "corr_matrix_pd = pd.DataFrame(corr_values, columns=sel_features, index=sel_features)"
   ]
  },
  {
   "cell_type": "code",
   "execution_count": 63,
   "id": "2432f022-0834-4406-8bdb-dbf8cde6e93b",
   "metadata": {},
   "outputs": [
    {
     "data": {
      "image/png": "[encoded data removed]",
      "text/plain": [
       "<Figure size 800x600 with 2 Axes>"
      ]
     },
     "metadata": {},
     "output_type": "display_data"
    }
   ],
   "source": [
    "# Visualizando a Matriz de Correlação usando Seaborn e Matplotlib\n",
    "plt.figure(figsize=( 8 , 6 )) \n",
    "heatmap = sns.heatmap(corr_matrix_pd, \n",
    "                      annot= True ,   # Mostra os valores numéricos das correlações\n",
    "                       cmap= \"RdBu\" , \n",
    "                      vmin=- 1 , \n",
    "                      vmax= 1 ) \n",
    "plt.show()"
   ]
  },
  {
   "cell_type": "markdown",
   "id": "0154eb12-c9d4-4a63-b34f-8749ef125884",
   "metadata": {},
   "source": [
    "Nota: Interpretação e Insights A matriz de correlação resultante fornece insights sobre como o Resultado de vendas, onpromotion, transactions e \"imputed_dcoilwtico estão associados. Entre todas variaveis, a variavel promoção tem uma relação positiva moderada (r=0,4) com vendas. A variável preços do petroleo tem uma relação negativa(r=-0,05). A magnitude do coeficiente reflete a força da correlação"
   ]
  }
 ],
 "metadata": {
  "kernelspec": {
   "display_name": "Python 3 (ipykernel)",
   "language": "python",
   "name": "python3"
  },
  "language_info": {
   "codemirror_mode": {
    "name": "ipython",
    "version": 3
   },
   "file_extension": ".py",
   "mimetype": "text/x-python",
   "name": "python",
   "nbconvert_exporter": "python",
   "pygments_lexer": "ipython3",
   "version": "3.12.4"
  }
 },
 "nbformat": 4,
 "nbformat_minor": 5
}
